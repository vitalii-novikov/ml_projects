{
 "cells": [
  {
   "cell_type": "markdown",
   "metadata": {},
   "source": [
    "# Starting point\n",
    "\n",
    "We would like to compare 2 different approaches to classify objects based on predictors. \n",
    "\n",
    "Chosen approaches:\n",
    "- kNN classifier\n",
    "- Naive Bayes classifier\n",
    "\n",
    "The comparison will be based on Accuracy, Recall, Precision and F1-Value of the models.\n",
    "The goal is to find the best model to predict \"income\" based on meaningful categorical features in the *census* data."
   ]
  },
  {
   "cell_type": "code",
   "execution_count": null,
   "metadata": {},
   "outputs": [],
   "source": [
    "import pandas as pd\n",
    "import numpy as np\n",
    "\n",
    "from matplotlib import pyplot as plt\n",
    "from sklearn.metrics import (\n",
    "    confusion_matrix,\n",
    "    classification_report,\n",
    "    RocCurveDisplay,\n",
    "    roc_curve, \n",
    "    auc\n",
    ")\n",
    "\n",
    "from sklearn.model_selection import (\n",
    "    GridSearchCV,\n",
    "    train_test_split\n",
    ")\n",
    "\n",
    "from sklearn.naive_bayes import GaussianNB, CategoricalNB"
   ]
  },
  {
   "cell_type": "markdown",
   "metadata": {},
   "source": [
    "## Data preparation\n",
    "\n",
    "For both models the census.csv data will be used."
   ]
  },
  {
   "cell_type": "code",
   "execution_count": 179,
   "metadata": {},
   "outputs": [
    {
     "data": {
      "text/html": [
       "<div>\n",
       "<style scoped>\n",
       "    .dataframe tbody tr th:only-of-type {\n",
       "        vertical-align: middle;\n",
       "    }\n",
       "\n",
       "    .dataframe tbody tr th {\n",
       "        vertical-align: top;\n",
       "    }\n",
       "\n",
       "    .dataframe thead th {\n",
       "        text-align: right;\n",
       "    }\n",
       "</style>\n",
       "<table border=\"1\" class=\"dataframe\">\n",
       "  <thead>\n",
       "    <tr style=\"text-align: right;\">\n",
       "      <th></th>\n",
       "      <th>age</th>\n",
       "      <th>workclass</th>\n",
       "      <th>fnlwgt</th>\n",
       "      <th>education</th>\n",
       "      <th>education.num</th>\n",
       "      <th>marital.status</th>\n",
       "      <th>occupation</th>\n",
       "      <th>relationship</th>\n",
       "      <th>race</th>\n",
       "      <th>sex</th>\n",
       "      <th>capital.gain</th>\n",
       "      <th>capital.loss</th>\n",
       "      <th>hours.per.week</th>\n",
       "      <th>native.country</th>\n",
       "      <th>income</th>\n",
       "    </tr>\n",
       "  </thead>\n",
       "  <tbody>\n",
       "    <tr>\n",
       "      <th>0</th>\n",
       "      <td>39</td>\n",
       "      <td>State-gov</td>\n",
       "      <td>77516</td>\n",
       "      <td>Bachelors</td>\n",
       "      <td>13</td>\n",
       "      <td>Never-married</td>\n",
       "      <td>Adm-clerical</td>\n",
       "      <td>Not-in-family</td>\n",
       "      <td>White</td>\n",
       "      <td>Male</td>\n",
       "      <td>2174</td>\n",
       "      <td>0</td>\n",
       "      <td>40</td>\n",
       "      <td>United-States</td>\n",
       "      <td>&lt;=50K</td>\n",
       "    </tr>\n",
       "    <tr>\n",
       "      <th>1</th>\n",
       "      <td>50</td>\n",
       "      <td>Self-emp-not-inc</td>\n",
       "      <td>83311</td>\n",
       "      <td>Bachelors</td>\n",
       "      <td>13</td>\n",
       "      <td>Married-civ-spouse</td>\n",
       "      <td>Exec-managerial</td>\n",
       "      <td>Husband</td>\n",
       "      <td>White</td>\n",
       "      <td>Male</td>\n",
       "      <td>0</td>\n",
       "      <td>0</td>\n",
       "      <td>13</td>\n",
       "      <td>United-States</td>\n",
       "      <td>&lt;=50K</td>\n",
       "    </tr>\n",
       "    <tr>\n",
       "      <th>2</th>\n",
       "      <td>38</td>\n",
       "      <td>Private</td>\n",
       "      <td>215646</td>\n",
       "      <td>HS-grad</td>\n",
       "      <td>9</td>\n",
       "      <td>Divorced</td>\n",
       "      <td>Handlers-cleaners</td>\n",
       "      <td>Not-in-family</td>\n",
       "      <td>White</td>\n",
       "      <td>Male</td>\n",
       "      <td>0</td>\n",
       "      <td>0</td>\n",
       "      <td>40</td>\n",
       "      <td>United-States</td>\n",
       "      <td>&lt;=50K</td>\n",
       "    </tr>\n",
       "    <tr>\n",
       "      <th>3</th>\n",
       "      <td>53</td>\n",
       "      <td>Private</td>\n",
       "      <td>234721</td>\n",
       "      <td>11th</td>\n",
       "      <td>7</td>\n",
       "      <td>Married-civ-spouse</td>\n",
       "      <td>Handlers-cleaners</td>\n",
       "      <td>Husband</td>\n",
       "      <td>Black</td>\n",
       "      <td>Male</td>\n",
       "      <td>0</td>\n",
       "      <td>0</td>\n",
       "      <td>40</td>\n",
       "      <td>United-States</td>\n",
       "      <td>&lt;=50K</td>\n",
       "    </tr>\n",
       "    <tr>\n",
       "      <th>4</th>\n",
       "      <td>28</td>\n",
       "      <td>Private</td>\n",
       "      <td>338409</td>\n",
       "      <td>Bachelors</td>\n",
       "      <td>13</td>\n",
       "      <td>Married-civ-spouse</td>\n",
       "      <td>Prof-specialty</td>\n",
       "      <td>Wife</td>\n",
       "      <td>Black</td>\n",
       "      <td>Female</td>\n",
       "      <td>0</td>\n",
       "      <td>0</td>\n",
       "      <td>40</td>\n",
       "      <td>Cuba</td>\n",
       "      <td>&lt;=50K</td>\n",
       "    </tr>\n",
       "  </tbody>\n",
       "</table>\n",
       "</div>"
      ],
      "text/plain": [
       "   age         workclass  fnlwgt  education  education.num  \\\n",
       "0   39         State-gov   77516  Bachelors             13   \n",
       "1   50  Self-emp-not-inc   83311  Bachelors             13   \n",
       "2   38           Private  215646    HS-grad              9   \n",
       "3   53           Private  234721       11th              7   \n",
       "4   28           Private  338409  Bachelors             13   \n",
       "\n",
       "       marital.status         occupation   relationship   race     sex  \\\n",
       "0       Never-married       Adm-clerical  Not-in-family  White    Male   \n",
       "1  Married-civ-spouse    Exec-managerial        Husband  White    Male   \n",
       "2            Divorced  Handlers-cleaners  Not-in-family  White    Male   \n",
       "3  Married-civ-spouse  Handlers-cleaners        Husband  Black    Male   \n",
       "4  Married-civ-spouse     Prof-specialty           Wife  Black  Female   \n",
       "\n",
       "   capital.gain  capital.loss  hours.per.week native.country income  \n",
       "0          2174             0              40  United-States  <=50K  \n",
       "1             0             0              13  United-States  <=50K  \n",
       "2             0             0              40  United-States  <=50K  \n",
       "3             0             0              40  United-States  <=50K  \n",
       "4             0             0              40           Cuba  <=50K  "
      ]
     },
     "execution_count": 179,
     "metadata": {},
     "output_type": "execute_result"
    }
   ],
   "source": [
    "dat = pd.read_csv(\"census.csv\")\n",
    "dat.head()"
   ]
  },
  {
   "cell_type": "markdown",
   "metadata": {},
   "source": [
    "The target is **Income**"
   ]
  },
  {
   "cell_type": "code",
   "execution_count": 180,
   "metadata": {},
   "outputs": [
    {
     "data": {
      "text/plain": [
       "income\n",
       "<=50K     24720\n",
       ">50K       7841\n",
       "Name: count, dtype: int64"
      ]
     },
     "execution_count": 180,
     "metadata": {},
     "output_type": "execute_result"
    }
   ],
   "source": [
    "dat[[\"income\"]].value_counts()\n"
   ]
  },
  {
   "cell_type": "markdown",
   "metadata": {},
   "source": [
    "Our target variable doesnt show the balanced distribution within the groups. So we should care about creating stratified data samples during spliting on train-test samples."
   ]
  },
  {
   "cell_type": "markdown",
   "metadata": {},
   "source": [
    "We need to choose a few meaningful categorical features as predictors.\n"
   ]
  },
  {
   "cell_type": "code",
   "execution_count": 181,
   "metadata": {},
   "outputs": [
    {
     "name": "stdout",
     "output_type": "stream",
     "text": [
      "Number of unique values: 9\n",
      "workclass\n",
      "Private             22696\n",
      "Self-emp-not-inc     2541\n",
      "Local-gov            2093\n",
      "?                    1836\n",
      "State-gov            1298\n",
      "Self-emp-inc         1116\n",
      "Federal-gov           960\n",
      "Without-pay            14\n",
      "Never-worked            7\n",
      "Name: count, dtype: int64\n",
      "------------------------------\n",
      "Number of unique values: 16\n",
      "education\n",
      "HS-grad         10501\n",
      "Some-college     7291\n",
      "Bachelors        5355\n",
      "Masters          1723\n",
      "Assoc-voc        1382\n",
      "11th             1175\n",
      "Assoc-acdm       1067\n",
      "10th              933\n",
      "7th-8th           646\n",
      "Prof-school       576\n",
      "9th               514\n",
      "12th              433\n",
      "Doctorate         413\n",
      "5th-6th           333\n",
      "1st-4th           168\n",
      "Preschool          51\n",
      "Name: count, dtype: int64\n",
      "------------------------------\n",
      "Number of unique values: 7\n",
      "marital.status\n",
      "Married-civ-spouse       14976\n",
      "Never-married            10683\n",
      "Divorced                  4443\n",
      "Separated                 1025\n",
      "Widowed                    993\n",
      "Married-spouse-absent      418\n",
      "Married-AF-spouse           23\n",
      "Name: count, dtype: int64\n",
      "------------------------------\n",
      "Number of unique values: 15\n",
      "occupation\n",
      "Prof-specialty       4140\n",
      "Craft-repair         4099\n",
      "Exec-managerial      4066\n",
      "Adm-clerical         3770\n",
      "Sales                3650\n",
      "Other-service        3295\n",
      "Machine-op-inspct    2002\n",
      "?                    1843\n",
      "Transport-moving     1597\n",
      "Handlers-cleaners    1370\n",
      "Farming-fishing       994\n",
      "Tech-support          928\n",
      "Protective-serv       649\n",
      "Priv-house-serv       149\n",
      "Armed-Forces            9\n",
      "Name: count, dtype: int64\n",
      "------------------------------\n",
      "Number of unique values: 6\n",
      "relationship\n",
      "Husband           13193\n",
      "Not-in-family      8305\n",
      "Own-child          5068\n",
      "Unmarried          3446\n",
      "Wife               1568\n",
      "Other-relative      981\n",
      "Name: count, dtype: int64\n",
      "------------------------------\n",
      "Number of unique values: 5\n",
      "race\n",
      "White                 27816\n",
      "Black                  3124\n",
      "Asian-Pac-Islander     1039\n",
      "Amer-Indian-Eskimo      311\n",
      "Other                   271\n",
      "Name: count, dtype: int64\n",
      "------------------------------\n",
      "Number of unique values: 2\n",
      "sex\n",
      "Male      21790\n",
      "Female    10771\n",
      "Name: count, dtype: int64\n",
      "------------------------------\n",
      "Number of unique values: 42\n",
      "native.country\n",
      "United-States                 29170\n",
      "Mexico                          643\n",
      "?                               583\n",
      "Philippines                     198\n",
      "Germany                         137\n",
      "Canada                          121\n",
      "Puerto-Rico                     114\n",
      "El-Salvador                     106\n",
      "India                           100\n",
      "Cuba                             95\n",
      "England                          90\n",
      "Jamaica                          81\n",
      "South                            80\n",
      "China                            75\n",
      "Italy                            73\n",
      "Dominican-Republic               70\n",
      "Vietnam                          67\n",
      "Guatemala                        64\n",
      "Japan                            62\n",
      "Poland                           60\n",
      "Columbia                         59\n",
      "Taiwan                           51\n",
      "Haiti                            44\n",
      "Iran                             43\n",
      "Portugal                         37\n",
      "Nicaragua                        34\n",
      "Peru                             31\n",
      "France                           29\n",
      "Greece                           29\n",
      "Ecuador                          28\n",
      "Ireland                          24\n",
      "Hong                             20\n",
      "Cambodia                         19\n",
      "Trinadad&Tobago                  19\n",
      "Laos                             18\n",
      "Thailand                         18\n",
      "Yugoslavia                       16\n",
      "Outlying-US(Guam-USVI-etc)       14\n",
      "Honduras                         13\n",
      "Hungary                          13\n",
      "Scotland                         12\n",
      "Holand-Netherlands                1\n",
      "Name: count, dtype: int64\n",
      "------------------------------\n",
      "Number of unique values: 2\n",
      "income\n",
      "<=50K    24720\n",
      ">50K      7841\n",
      "Name: count, dtype: int64\n",
      "------------------------------\n"
     ]
    }
   ],
   "source": [
    "def analyze_categorical_columns(df):\n",
    "    categorical_cols = df.select_dtypes(include=['object', 'category']).columns\n",
    "\n",
    "    if len(categorical_cols) == 0:\n",
    "        print(\"No categorical columns in DataFrame.\")\n",
    "        return\n",
    "\n",
    "    for col in categorical_cols:\n",
    "        print(f\"Number of unique values: {df[col].nunique()}\")\n",
    "        print(f\"{df[col].value_counts()}\")\n",
    "        print(\"-\" * 30)\n",
    "\n",
    "analyze_categorical_columns(dat)"
   ]
  },
  {
   "cell_type": "markdown",
   "metadata": {},
   "source": [
    "Based on information above the set of these categorical feachures were selected:\n",
    "\n",
    "- workclass (9 classes)\n",
    "- education (16 classes)\n",
    "- marital.status (7 classes)\n",
    "- occupation (15 classes)\n",
    "- sex (2 classes)"
   ]
  },
  {
   "cell_type": "code",
   "execution_count": 182,
   "metadata": {},
   "outputs": [
    {
     "name": "stdout",
     "output_type": "stream",
     "text": [
      "<class 'pandas.core.frame.DataFrame'>\n",
      "RangeIndex: 32561 entries, 0 to 32560\n",
      "Data columns (total 6 columns):\n",
      " #   Column          Non-Null Count  Dtype \n",
      "---  ------          --------------  ----- \n",
      " 0   workclass       32561 non-null  object\n",
      " 1   education       32561 non-null  object\n",
      " 2   marital.status  32561 non-null  object\n",
      " 3   occupation      32561 non-null  object\n",
      " 4   sex             32561 non-null  object\n",
      " 5   income          32561 non-null  object\n",
      "dtypes: object(6)\n",
      "memory usage: 1.5+ MB\n"
     ]
    }
   ],
   "source": [
    "whole_dataset = dat[[\"workclass\",\"education\",\"marital.status\", \"occupation\", \"sex\", \"income\"]]\n",
    "whole_dataset.info()\n"
   ]
  },
  {
   "cell_type": "code",
   "execution_count": 183,
   "metadata": {},
   "outputs": [
    {
     "data": {
      "text/plain": [
       "workclass         0\n",
       "education         0\n",
       "marital.status    0\n",
       "occupation        0\n",
       "sex               0\n",
       "income            0\n",
       "dtype: int64"
      ]
     },
     "execution_count": 183,
     "metadata": {},
     "output_type": "execute_result"
    }
   ],
   "source": [
    "whole_dataset.isna().sum()"
   ]
  },
  {
   "cell_type": "markdown",
   "metadata": {},
   "source": [
    "There are no any missing values, good."
   ]
  },
  {
   "cell_type": "markdown",
   "metadata": {},
   "source": [
    "## Onehot encoding"
   ]
  },
  {
   "cell_type": "code",
   "execution_count": 184,
   "metadata": {},
   "outputs": [
    {
     "data": {
      "text/html": [
       "<div>\n",
       "<style scoped>\n",
       "    .dataframe tbody tr th:only-of-type {\n",
       "        vertical-align: middle;\n",
       "    }\n",
       "\n",
       "    .dataframe tbody tr th {\n",
       "        vertical-align: top;\n",
       "    }\n",
       "\n",
       "    .dataframe thead th {\n",
       "        text-align: right;\n",
       "    }\n",
       "</style>\n",
       "<table border=\"1\" class=\"dataframe\">\n",
       "  <thead>\n",
       "    <tr style=\"text-align: right;\">\n",
       "      <th></th>\n",
       "      <th>income</th>\n",
       "      <th>workclass_Federal-gov</th>\n",
       "      <th>workclass_Local-gov</th>\n",
       "      <th>workclass_Never-worked</th>\n",
       "      <th>workclass_Private</th>\n",
       "    </tr>\n",
       "  </thead>\n",
       "  <tbody>\n",
       "    <tr>\n",
       "      <th>0</th>\n",
       "      <td>&lt;=50K</td>\n",
       "      <td>False</td>\n",
       "      <td>False</td>\n",
       "      <td>False</td>\n",
       "      <td>False</td>\n",
       "    </tr>\n",
       "  </tbody>\n",
       "</table>\n",
       "</div>"
      ],
      "text/plain": [
       "  income  workclass_Federal-gov  workclass_Local-gov  workclass_Never-worked  \\\n",
       "0  <=50K                  False                False                   False   \n",
       "\n",
       "   workclass_Private  \n",
       "0              False  "
      ]
     },
     "execution_count": 184,
     "metadata": {},
     "output_type": "execute_result"
    }
   ],
   "source": [
    "\n",
    "# Use pd.get_dummies() to one-hot encode the categorical columns\n",
    "ds_encoded = pd.get_dummies(whole_dataset, columns=[\"workclass\",\"education\",\"marital.status\", \"occupation\", \"sex\"], drop_first=True)\n",
    "ds_encoded.iloc[:,:5].head(1)"
   ]
  },
  {
   "cell_type": "markdown",
   "metadata": {},
   "source": [
    "Here we can see just first few columns.\n"
   ]
  },
  {
   "cell_type": "code",
   "execution_count": 185,
   "metadata": {},
   "outputs": [
    {
     "name": "stdout",
     "output_type": "stream",
     "text": [
      "Total number of columns: 45\n",
      "Index(['income', 'workclass_Federal-gov', 'workclass_Local-gov',\n",
      "       'workclass_Never-worked', 'workclass_Private', 'workclass_Self-emp-inc',\n",
      "       'workclass_Self-emp-not-inc', 'workclass_State-gov',\n",
      "       'workclass_Without-pay', 'education_11th', 'education_12th',\n",
      "       'education_1st-4th', 'education_5th-6th', 'education_7th-8th',\n",
      "       'education_9th', 'education_Assoc-acdm', 'education_Assoc-voc',\n",
      "       'education_Bachelors', 'education_Doctorate', 'education_HS-grad',\n",
      "       'education_Masters', 'education_Preschool', 'education_Prof-school',\n",
      "       'education_Some-college', 'marital.status_Married-AF-spouse',\n",
      "       'marital.status_Married-civ-spouse',\n",
      "       'marital.status_Married-spouse-absent', 'marital.status_Never-married',\n",
      "       'marital.status_Separated', 'marital.status_Widowed',\n",
      "       'occupation_Adm-clerical', 'occupation_Armed-Forces',\n",
      "       'occupation_Craft-repair', 'occupation_Exec-managerial',\n",
      "       'occupation_Farming-fishing', 'occupation_Handlers-cleaners',\n",
      "       'occupation_Machine-op-inspct', 'occupation_Other-service',\n",
      "       'occupation_Priv-house-serv', 'occupation_Prof-specialty',\n",
      "       'occupation_Protective-serv', 'occupation_Sales',\n",
      "       'occupation_Tech-support', 'occupation_Transport-moving', 'sex_Male'],\n",
      "      dtype='object')\n"
     ]
    }
   ],
   "source": [
    "print(f\"Total number of columns: {len(ds_encoded.columns)}\")\n",
    "print(ds_encoded.columns)"
   ]
  },
  {
   "cell_type": "markdown",
   "metadata": {},
   "source": [
    "The total number of columns is 45.\n",
    "\n",
    "Now the data is ready to be splitted on test-train samples. "
   ]
  },
  {
   "cell_type": "markdown",
   "metadata": {},
   "source": [
    "## Train-test split"
   ]
  },
  {
   "cell_type": "code",
   "execution_count": 186,
   "metadata": {},
   "outputs": [],
   "source": [
    "X = ds_encoded.iloc[:,1:]\n",
    "y = ds_encoded.iloc[:,0]\n",
    "\n",
    "X_train, X_test, y_train, y_test = train_test_split(\n",
    "    X, y, test_size=1/3, random_state=471\n",
    ")"
   ]
  },
  {
   "cell_type": "code",
   "execution_count": 187,
   "metadata": {},
   "outputs": [
    {
     "data": {
      "text/html": [
       "<div>\n",
       "<style scoped>\n",
       "    .dataframe tbody tr th:only-of-type {\n",
       "        vertical-align: middle;\n",
       "    }\n",
       "\n",
       "    .dataframe tbody tr th {\n",
       "        vertical-align: top;\n",
       "    }\n",
       "\n",
       "    .dataframe thead th {\n",
       "        text-align: right;\n",
       "    }\n",
       "</style>\n",
       "<table border=\"1\" class=\"dataframe\">\n",
       "  <thead>\n",
       "    <tr style=\"text-align: right;\">\n",
       "      <th></th>\n",
       "      <th>train</th>\n",
       "      <th>test</th>\n",
       "    </tr>\n",
       "    <tr>\n",
       "      <th>income</th>\n",
       "      <th></th>\n",
       "      <th></th>\n",
       "    </tr>\n",
       "  </thead>\n",
       "  <tbody>\n",
       "    <tr>\n",
       "      <th>&lt;=50K</th>\n",
       "      <td>16518</td>\n",
       "      <td>8202</td>\n",
       "    </tr>\n",
       "    <tr>\n",
       "      <th>&gt;50K</th>\n",
       "      <td>5189</td>\n",
       "      <td>2652</td>\n",
       "    </tr>\n",
       "  </tbody>\n",
       "</table>\n",
       "</div>"
      ],
      "text/plain": [
       "        train  test\n",
       "income             \n",
       "<=50K   16518  8202\n",
       ">50K     5189  2652"
      ]
     },
     "execution_count": 187,
     "metadata": {},
     "output_type": "execute_result"
    }
   ],
   "source": [
    "pd.concat({\"train\": y_train.value_counts(), \"test\": y_test.value_counts()}, axis=1)\n",
    "# y_test.value_counts().merge(y_train.value_counts(), how = \"inner\")"
   ]
  },
  {
   "cell_type": "markdown",
   "metadata": {},
   "source": [
    "Looks quite stratified."
   ]
  },
  {
   "cell_type": "markdown",
   "metadata": {},
   "source": [
    "## k-NN-model\n",
    "\n",
    "As in previous homework we can use grid search to find good k and determine the best kNN model. We already know, that this method perform pretty well because it uses cross validation (in our case with 10 folds)."
   ]
  },
  {
   "cell_type": "code",
   "execution_count": 188,
   "metadata": {},
   "outputs": [
    {
     "name": "stdout",
     "output_type": "stream",
     "text": [
      "Best k : 9\n"
     ]
    }
   ],
   "source": [
    "gs = GridSearchCV(estimator = knn,\n",
    "        param_grid = {'n_neighbors' : list(range(1,10))},\n",
    "        scoring = 'accuracy',\n",
    "        cv = 10,\n",
    "        refit = True)\n",
    "best_knn_model = gs.fit(X_train, y_train).best_estimator_\n",
    "print('Best k : %d' % best_knn_model.get_params()['n_neighbors'])"
   ]
  },
  {
   "cell_type": "markdown",
   "metadata": {},
   "source": [
    "Grid search tells us that the best k is 9.\n",
    "\n",
    "We can calculate some performance metrics to check how good the model actually."
   ]
  },
  {
   "cell_type": "code",
   "execution_count": 189,
   "metadata": {},
   "outputs": [
    {
     "name": "stdout",
     "output_type": "stream",
     "text": [
      "[[7442  760]\n",
      " [1284 1368]]\n"
     ]
    }
   ],
   "source": [
    "\n",
    "pred = best_knn_model.predict(X_test)\n",
    "print(confusion_matrix(y_test, pred))\n"
   ]
  },
  {
   "cell_type": "markdown",
   "metadata": {},
   "source": [
    "There are 7442 and 1368 correctly detected \"<=50K\" and \">50K\" classes respectivvely.\n",
    "\n",
    "But the number of false predictions is ratherly big (760 and 1284). Seems like this kNN model strugle to determine rich class (>50K), because the second row in the confusion matrix represented by numbers close to 1300, whereas the total number of observations with \">50K\" in test data is around 2600. That means just half of the rich class was detected. \n",
    "\n",
    "We can explore classification_report to get more informations about model."
   ]
  },
  {
   "cell_type": "code",
   "execution_count": 190,
   "metadata": {},
   "outputs": [
    {
     "name": "stdout",
     "output_type": "stream",
     "text": [
      "              precision    recall  f1-score   support\n",
      "\n",
      "       <=50K       0.85      0.91      0.88      8202\n",
      "        >50K       0.64      0.52      0.57      2652\n",
      "\n",
      "    accuracy                           0.81     10854\n",
      "   macro avg       0.75      0.71      0.73     10854\n",
      "weighted avg       0.80      0.81      0.80     10854\n",
      "\n"
     ]
    }
   ],
   "source": [
    "print(classification_report(y_test, pred))"
   ]
  },
  {
   "cell_type": "markdown",
   "metadata": {},
   "source": [
    "As mentioned before the class marked as \">50K\" is problematic for the model, thus recall is just 0.52. Also the precision for this category is rather small showing 0.64. \n",
    "\n",
    "The class with larger number of observations shows better performance with respect to precision (0.85) and recall (0.91), and thus the f1-score (0.88) as well.\n",
    "\n",
    "The accuracy is showing 0.81, but such a big number reaches because of nice performance of larger class with about 80% of observations (<=50K), while smaller class (>50K) shows bad performance. \n",
    "\n",
    "Combined performance metrics (macro avg & weighted avg) showcase around 0.73 and 0.80 respectively, which is not so good."
   ]
  },
  {
   "cell_type": "code",
   "execution_count": 191,
   "metadata": {},
   "outputs": [
    {
     "data": {
      "image/png": "[encoded data removed]",
      "text/plain": [
       "<Figure size 640x480 with 1 Axes>"
      ]
     },
     "metadata": {},
     "output_type": "display_data"
    }
   ],
   "source": [
    "RocCurveDisplay.from_estimator(best_knn_model, X_test, y_test)\n",
    "plt.show()"
   ]
  },
  {
   "cell_type": "markdown",
   "metadata": {},
   "source": [
    "## NaiveBayes model\n",
    "\n",
    "Naive Bayes classifier assumes that the effect of a particular feature in a class is independent of other features"
   ]
  },
  {
   "cell_type": "markdown",
   "metadata": {},
   "source": [
    "There are 2 types of Naive Bayes functions that exists in sklearn.\n",
    "\n",
    "**GaussianNB:**\n",
    "- Assumes continuous features follow a Gaussian (normal) distribution.\n",
    "- Used for classification with continuous features.\n",
    "**CategoricalNB:**\n",
    "- Assumes categorical features follow a categorical distribution.\n",
    "- Used for classification with categorical features.\n",
    "\n",
    "In our case, we only have categorical features, so it's an easy decision to choose the latter method. However, it's still interesting to see how the former method might perform in this kind of task, because there was no *CategoricalNB* in previous versions of Scikit-learn. Additionally, I would like to test it because **ChatGPT** suggested using Gaussian NB, which seems strange when we only have categorial variables."
   ]
  },
  {
   "cell_type": "markdown",
   "metadata": {},
   "source": [
    "### Gaussian Naive Bayes"
   ]
  },
  {
   "cell_type": "code",
   "execution_count": 192,
   "metadata": {},
   "outputs": [],
   "source": [
    "modelNB1 = GaussianNB()\n",
    "\n",
    "modelNB1.fit(X_train, y_train)\n",
    "\n",
    "predNB1 = modelNB1.predict(X_test)"
   ]
  },
  {
   "cell_type": "code",
   "execution_count": 193,
   "metadata": {},
   "outputs": [
    {
     "name": "stdout",
     "output_type": "stream",
     "text": [
      "[[1966 6236]\n",
      " [  91 2561]]\n"
     ]
    }
   ],
   "source": [
    "print(confusion_matrix(y_test, predNB1))"
   ]
  },
  {
   "cell_type": "markdown",
   "metadata": {},
   "source": [
    "Looks very bad, as expected because of use wrong Naive Bayes method (Gaussian instead of Categorical)"
   ]
  },
  {
   "cell_type": "code",
   "execution_count": 194,
   "metadata": {},
   "outputs": [
    {
     "name": "stdout",
     "output_type": "stream",
     "text": [
      "              precision    recall  f1-score   support\n",
      "\n",
      "       <=50K       0.96      0.24      0.38      8202\n",
      "        >50K       0.29      0.97      0.45      2652\n",
      "\n",
      "    accuracy                           0.42     10854\n",
      "   macro avg       0.62      0.60      0.42     10854\n",
      "weighted avg       0.79      0.42      0.40     10854\n",
      "\n"
     ]
    }
   ],
   "source": [
    "print(classification_report(y_test, predNB1))"
   ]
  },
  {
   "cell_type": "markdown",
   "metadata": {},
   "source": [
    "Classification report also proof that this model performs bad with *weghted avg f1-score* around 0.4."
   ]
  },
  {
   "cell_type": "markdown",
   "metadata": {},
   "source": [
    "### Categorical Naive Bayes"
   ]
  },
  {
   "cell_type": "code",
   "execution_count": 195,
   "metadata": {},
   "outputs": [],
   "source": [
    "\n",
    "modelNB2 = CategoricalNB()\n",
    "\n",
    "modelNB2.fit(X_train, y_train)\n",
    "\n",
    "predNB2 = modelNB2.predict(X_test)\n"
   ]
  },
  {
   "cell_type": "code",
   "execution_count": 196,
   "metadata": {},
   "outputs": [
    {
     "name": "stdout",
     "output_type": "stream",
     "text": [
      "[[6979 1223]\n",
      " [ 931 1721]]\n"
     ]
    }
   ],
   "source": [
    "print(confusion_matrix(y_test, predNB2))"
   ]
  },
  {
   "cell_type": "markdown",
   "metadata": {},
   "source": [
    "This matrix looks much better compared to modelNB1. \n",
    "\n",
    "But we would like to compare performance metrics with knn_midel."
   ]
  },
  {
   "cell_type": "code",
   "execution_count": 197,
   "metadata": {},
   "outputs": [
    {
     "name": "stdout",
     "output_type": "stream",
     "text": [
      "              precision    recall  f1-score   support\n",
      "\n",
      "       <=50K       0.88      0.85      0.87      8202\n",
      "        >50K       0.58      0.65      0.62      2652\n",
      "\n",
      "    accuracy                           0.80     10854\n",
      "   macro avg       0.73      0.75      0.74     10854\n",
      "weighted avg       0.81      0.80      0.80     10854\n",
      "\n"
     ]
    }
   ],
   "source": [
    "print(classification_report(y_test, predNB2))"
   ]
  },
  {
   "cell_type": "markdown",
   "metadata": {},
   "source": [
    "Usage of Categorical Naive Bayes brings us to model, that show simmilar patterns as knn_model, but slightly different. \n",
    "\n",
    "As well as knn_model this NB_model shows better performance regarding larger class (<=50K) with precision at 0.88 and recall at 0.85. In contrast to knn_model the later metric is lower, but not significantly (0.91 -> 0.85 still high compared to other numbers).\n",
    "\n",
    "As for smalle class (>50K) this model performs in another way, because the precision (0.64 -> 0.58) and recall (0.52 -> 0.65) swapped their positions in relative numbers. The f1-score for the larger group sligthly decreased (0.88 -> 0.87), while this for smaller group increased (0.57 -> 0.62).\n",
    "\n",
    "To understand which model is better knn_model or NB_model, we should define what is more important for us: precision or recall.\n",
    "\n",
    "In my personal oppinion the recall of samller class should be more important in this case, **therefore NB_model is slightly better for this task**, while still the result of this model is 80% in terms of accuracy."
   ]
  },
  {
   "cell_type": "markdown",
   "metadata": {},
   "source": [
    "## Threshhold tuning"
   ]
  },
  {
   "cell_type": "code",
   "execution_count": 198,
   "metadata": {},
   "outputs": [],
   "source": [
    "X_train_part, X_val, y_train_part, y_val = train_test_split(\n",
    "    X_train, y_train, test_size=1/3, random_state=1)"
   ]
  },
  {
   "cell_type": "markdown",
   "metadata": {},
   "source": [
    "We splitted the train dataset, that we used befor, on 2 new datasets: train_part and val."
   ]
  },
  {
   "cell_type": "markdown",
   "metadata": {},
   "source": [
    "Actual parts of the whole dataset:\n",
    "- 1/3 test data\n",
    "- 4/9 train_part data\n",
    "- 2/9 val data"
   ]
  },
  {
   "cell_type": "code",
   "execution_count": 199,
   "metadata": {},
   "outputs": [
    {
     "data": {
      "image/png": "[encoded data removed]",
      "text/plain": [
       "<Figure size 640x480 with 1 Axes>"
      ]
     },
     "metadata": {},
     "output_type": "display_data"
    }
   ],
   "source": [
    "modelNB3 = CategoricalNB()\n",
    "\n",
    "modelNB3.fit(X_train_part, y_train_part)\n",
    "\n",
    "y_prob_val = modelNB3.predict_proba(X_val)[:, 1] \n",
    "fpr, tpr, thresholds = roc_curve(y_val, y_prob_val, pos_label='>50K')\n",
    "\n",
    "roc_auc = auc(fpr, tpr)\n",
    "\n",
    "plt.plot(fpr, tpr, label=f'ROC curve (area = {roc_auc:.2f})')\n",
    "plt.plot([0, 1], [0, 1], 'k--')\n",
    "plt.legend()\n",
    "plt.show()"
   ]
  },
  {
   "cell_type": "markdown",
   "metadata": {},
   "source": [
    "Another method to plot Receiver Operating Characteristic (ROC) curve using manually calculated FalsePositiveRate (fpr) and TruePositiveRate (tpr).\n",
    "\n",
    "To define the best threshold we can use Youden’s J Statistic, which is simply difference between *tpr* and *fpr*. That means that we try to find threshold that helps to get the model with better recall of the chousen class (in this case \">50K\"). "
   ]
  },
  {
   "cell_type": "code",
   "execution_count": 200,
   "metadata": {},
   "outputs": [
    {
     "name": "stdout",
     "output_type": "stream",
     "text": [
      "threshold: 0.2461130910160678\n"
     ]
    }
   ],
   "source": [
    "\n",
    "youden_j = tpr - fpr\n",
    "\n",
    "best_threshold = thresholds[np.argmax(youden_j)]\n",
    "\n",
    "y_prob_test = modelNB3.predict_proba(X_test)[:, 1]\n",
    "pred_threshold = (y_prob_test >= best_threshold).astype(int)\n",
    "print(\"threshold:\", best_threshold)\n",
    "prediction = ['>50K' if p == 1 else '<=50K' for p in pred_threshold]"
   ]
  },
  {
   "cell_type": "markdown",
   "metadata": {},
   "source": [
    "New threshhold is 0.246, which is significantly lower then basic one (0.5). We can assume the model will pick \">50K\" more often, because the threshold becomes lower."
   ]
  },
  {
   "cell_type": "code",
   "execution_count": 201,
   "metadata": {},
   "outputs": [
    {
     "name": "stdout",
     "output_type": "stream",
     "text": [
      "[[6057 2145]\n",
      " [ 477 2175]]\n"
     ]
    }
   ],
   "source": [
    "print(confusion_matrix(y_test, prediction))"
   ]
  },
  {
   "cell_type": "markdown",
   "metadata": {},
   "source": [
    "As mentioned before the model increased predictions of \">50K\" in total, bringing us to more false positive predictions (1223 -> 2145), while the number of true positive predictions increases slightly (1721 -> 2175).\n",
    "\n",
    "TP and FP are almost equal, which means that the model produce 50% incorrect predictions for small class."
   ]
  },
  {
   "cell_type": "code",
   "execution_count": 202,
   "metadata": {},
   "outputs": [
    {
     "name": "stdout",
     "output_type": "stream",
     "text": [
      "              precision    recall  f1-score   support\n",
      "\n",
      "       <=50K       0.93      0.74      0.82      8202\n",
      "        >50K       0.50      0.82      0.62      2652\n",
      "\n",
      "    accuracy                           0.76     10854\n",
      "   macro avg       0.72      0.78      0.72     10854\n",
      "weighted avg       0.82      0.76      0.77     10854\n",
      "\n"
     ]
    }
   ],
   "source": [
    "print(classification_report(y_test, prediction))"
   ]
  },
  {
   "cell_type": "markdown",
   "metadata": {},
   "source": [
    "As expected, the recall for small class becomes higher, but we loose in precision: 50% is low.\n",
    "\n",
    "Interesting thing that the f1-score for \">50K\" doesn't change (0.62 -> 0.62).\n",
    "\n",
    "Also, accuracy is slightly decreased, compared to model with initial threshold. As well as overall performance metrics becomes lower."
   ]
  },
  {
   "cell_type": "markdown",
   "metadata": {},
   "source": [
    "## Conclusion\n",
    "\n",
    "Overall, all the models that we tested for this task can be reasonably used, except the model based on GaussianNB. Some of them have slightly better recall of small class, while others perform better in terms of precision for that. Also, the kNN model demonstrates that it requires much more computational power than NaiveBayes in this case, because we have a lot of dimentions (>40) after onehote encoding.\n",
    "\n",
    "I would say that the final model should be ClassificationNaiveBayes based on initial (0.5) threshold, because it shows balanced performance. "
   ]
  }
 ],
 "metadata": {
  "kernelspec": {
   "display_name": "Python 3 (ipykernel)",
   "language": "python",
   "name": "python3"
  },
  "language_info": {
   "codemirror_mode": {
    "name": "ipython",
    "version": 3
   },
   "file_extension": ".py",
   "mimetype": "text/x-python",
   "name": "python",
   "nbconvert_exporter": "python",
   "pygments_lexer": "ipython3",
   "version": "3.12.2"
  }
 },
 "nbformat": 4,
 "nbformat_minor": 2
}
